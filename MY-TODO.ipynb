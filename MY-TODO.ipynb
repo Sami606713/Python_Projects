{
 "cells": [
  {
   "cell_type": "markdown",
   "id": "2567b51f",
   "metadata": {},
   "source": [
    "# TODO LIST"
   ]
  },
  {
   "cell_type": "code",
   "execution_count": 6,
   "id": "f438b43e",
   "metadata": {},
   "outputs": [],
   "source": [
    "import json\n",
    "class TODO:\n",
    "    def __init__(self):\n",
    "        self.dic={}\n",
    "        self.menu()\n",
    "    \n",
    "    def menu(self):\n",
    "        try:\n",
    "            print(\"Welcome to your todo: \")\n",
    "            user=int(input(\"\"\"Select Your Choice\n",
    "            1-Add TODO\n",
    "            2-Check TODO\n",
    "            3-Update TODO\n",
    "            4-Delete TODO\n",
    "            5-Exit\"\"\"))\n",
    "\n",
    "            if(user==1):\n",
    "                self.Add()\n",
    "                self.menu()\n",
    "            elif(user==2):\n",
    "                self.Check()\n",
    "                self.menu()\n",
    "            elif(user==3):\n",
    "                self.Update()\n",
    "                self.menu()\n",
    "            elif(user==4):\n",
    "                self.Delete()\n",
    "                self.menu()\n",
    "            elif(user==5):\n",
    "                self.save()\n",
    "            else:\n",
    "                print(\"Invalid Choice\")\n",
    "        except Exception as e:\n",
    "            print(\"Enter correct option: \")\n",
    "            self.menu()\n",
    "\n",
    "        \n",
    "    \n",
    "    def Add(self):\n",
    "        title=input(\"Enter Todo Title: \").title()\n",
    "        des=input(\"Enter Des of Todo\").capitalize()\n",
    "        self.dic[title]=des\n",
    "        return self.dic\n",
    "    \n",
    "    def Check(self):\n",
    "        for key,value in self.dic.items():\n",
    "            print(f\"{key}\\nDescription:  {value}\")\n",
    "    \n",
    "    def Update(self):\n",
    "        pre_title=input(\"Enter title for update todo: \")\n",
    "        if (pre_title in self.dic.keys()):\n",
    "            des=input(\"Enter new Description: \")\n",
    "            self.dic[pre_title]=des\n",
    "            print(\"Update Successfully!\")\n",
    "            return self.dic\n",
    "        else:\n",
    "            print(\"Title not found\")\n",
    "    \n",
    "    def Delete(self):\n",
    "        title=input(\"Enter tile for delete your todo: \")\n",
    "        if(title in self.dic.keys()):\n",
    "            del self.dic[title]\n",
    "            print(\"Delete Successsfully\")\n",
    "            return self.dic\n",
    "        else:\n",
    "            print(\"Title not found\")\n",
    "    def save(self):\n",
    "        print(\"Do you wnat to save your Todo: \")\n",
    "        choice=input(\"Select your Choice: y or n\").lower()\n",
    "        print(choice)\n",
    "        if(choice==\"y\"):\n",
    "            with open(\"To.json\",\"w\")as f:\n",
    "                json.dump(self.dic,f)\n",
    "                print(\"Save Successfully!\")\n",
    "        else:\n",
    "            print(\"Thanks for using.\")\n",
    "            exit()\n"
   ]
  },
  {
   "cell_type": "code",
   "execution_count": 7,
   "id": "896f9314",
   "metadata": {},
   "outputs": [
    {
     "name": "stdout",
     "output_type": "stream",
     "text": [
      "Welcome to your todo: \n",
      "Select Your Choice\n",
      "            1-Add TODO\n",
      "            2-Check TODO\n",
      "            3-Update TODO\n",
      "            4-Delete TODO\n",
      "            5-Exit1\n",
      "Enter Todo Title: hdgdjds\n",
      "Enter Des of Todojahasaysuk\n",
      "Welcome to your todo: \n",
      "Select Your Choice\n",
      "            1-Add TODO\n",
      "            2-Check TODO\n",
      "            3-Update TODO\n",
      "            4-Delete TODO\n",
      "            5-Exit1\n",
      "Enter Todo Title: Wlski\n",
      "Enter Des of Todowqlkiuijdns\n",
      "Welcome to your todo: \n",
      "Select Your Choice\n",
      "            1-Add TODO\n",
      "            2-Check TODO\n",
      "            3-Update TODO\n",
      "            4-Delete TODO\n",
      "            5-Exit5\n",
      "Do you wnat to save your Todo: \n",
      "Select your Choice: y or ny\n",
      "y\n",
      "Save Successfully!\n"
     ]
    }
   ],
   "source": [
    "mytodo=TODO()"
   ]
  },
  {
   "cell_type": "code",
   "execution_count": 3,
   "id": "f6b26c00",
   "metadata": {},
   "outputs": [
    {
     "name": "stdout",
     "output_type": "stream",
     "text": [
      "{'naem': 'sami', 'gender': 'male', 'COuntry': 'Pakistan'}\n",
      "{'gender': 'male', 'COuntry': 'Pakistan'}\n"
     ]
    }
   ],
   "source": [
    "dic={\"naem\":\"sami\",\"gender\":\"male\",\"COuntry\": \"Pakistan\"}\n",
    "print(dic)\n",
    "del dic[\"naem\"]\n",
    "print(dic)"
   ]
  },
  {
   "cell_type": "code",
   "execution_count": 4,
   "id": "55d9c461",
   "metadata": {},
   "outputs": [],
   "source": [
    "n=\"sami\""
   ]
  },
  {
   "cell_type": "code",
   "execution_count": 5,
   "id": "91b87397",
   "metadata": {},
   "outputs": [
    {
     "data": {
      "text/plain": [
       "'Sami'"
      ]
     },
     "execution_count": 5,
     "metadata": {},
     "output_type": "execute_result"
    }
   ],
   "source": [
    "n.capitalize()"
   ]
  },
  {
   "cell_type": "code",
   "execution_count": null,
   "id": "a61cfa8f",
   "metadata": {},
   "outputs": [],
   "source": []
  }
 ],
 "metadata": {
  "kernelspec": {
   "display_name": "Python 3 (ipykernel)",
   "language": "python",
   "name": "python3"
  },
  "language_info": {
   "codemirror_mode": {
    "name": "ipython",
    "version": 3
   },
   "file_extension": ".py",
   "mimetype": "text/x-python",
   "name": "python",
   "nbconvert_exporter": "python",
   "pygments_lexer": "ipython3",
   "version": "3.11.5"
  }
 },
 "nbformat": 4,
 "nbformat_minor": 5
}

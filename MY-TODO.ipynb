{
 "cells": [
  {
   "cell_type": "markdown",
   "id": "95120f46",
   "metadata": {},
   "source": [
    "# TODO LIST"
   ]
  },
  {
   "cell_type": "code",
   "execution_count": 1,
   "id": "39e4d21f",
   "metadata": {},
   "outputs": [],
   "source": [
    "import json\n",
    "class TODO:\n",
    "    def __init__(self):\n",
    "        self.dic={}\n",
    "        self.menu()\n",
    "    \n",
    "    def menu(self):\n",
    "        try:\n",
    "            print(\"Welcome to your todo: \")\n",
    "            user=int(input(\"\"\"Select Your Choice\n",
    "            1-Add TODO\n",
    "            2-Check TODO\n",
    "            3-Update TODO\n",
    "            4-Delete TODO\n",
    "            5-Exit\"\"\"))\n",
    "\n",
    "            if(user==1):\n",
    "                self.Add()\n",
    "                self.menu()\n",
    "            elif(user==2):\n",
    "                self.Check()\n",
    "                self.menu()\n",
    "            elif(user==3):\n",
    "                self.Update()\n",
    "                self.menu()\n",
    "            elif(user==4):\n",
    "                self.Delete()\n",
    "                self.menu()\n",
    "            elif(user==5):\n",
    "                self.save()\n",
    "            else:\n",
    "                print(\"Invalid Choice\")\n",
    "        except Exception as e:\n",
    "            print(\"Enter correct option: \")\n",
    "            self.menu()\n",
    "\n",
    "        \n",
    "    \n",
    "    def Add(self):\n",
    "        title=input(\"Enter Todo Title: \").title()\n",
    "        des=input(\"Enter Des of Todo\").capitalize()\n",
    "        self.dic[title]=des\n",
    "        return self.dic\n",
    "    \n",
    "    def Check(self):\n",
    "        for key,value in self.dic.items():\n",
    "            print(f\"{key}\\nDescription:  {value}\")\n",
    "    \n",
    "    def Update(self):\n",
    "        pre_title=input(\"Enter title for update todo: \")\n",
    "        if (pre_title in self.dic.keys()):\n",
    "            des=input(\"Enter new Description: \")\n",
    "            self.dic[pre_title]=des\n",
    "            print(\"Update Successfully!\")\n",
    "            return self.dic\n",
    "        else:\n",
    "            print(\"Title not found\")\n",
    "    \n",
    "    def Delete(self):\n",
    "        title=input(\"Enter tile for delete your todo: \")\n",
    "        if(title in self.dic.keys()):\n",
    "            del self.dic[title]\n",
    "            print(\"Delete Successsfully\")\n",
    "            return self.dic\n",
    "        else:\n",
    "            print(\"Title not found\")\n",
    "    def save(self):\n",
    "        print(\"Do you wnat to save your Todo: \")\n",
    "        choice=input(\"Select your Choice: y or n\").lower()\n",
    "        print(choice)\n",
    "        if(choice==\"y\"):\n",
    "            with open(\"To.json\",\"w\")as f:\n",
    "                json.dump(self.dic,f)\n",
    "                print(\"Save Successfully!\")\n",
    "        else:\n",
    "            print(\"Thanks for using.\")\n",
    "            exit()\n"
   ]
  },
  {
   "cell_type": "code",
   "execution_count": 2,
   "id": "60a68dc2",
   "metadata": {},
   "outputs": [
    {
     "name": "stdout",
     "output_type": "stream",
     "text": [
      "Welcome to your todo: \n",
      "Select Your Choice\n",
      "            1-Add TODO\n",
      "            2-Check TODO\n",
      "            3-Update TODO\n",
      "            4-Delete TODO\n",
      "            5-Exit5\n",
      "Do you wnat to save your Todo: \n",
      "Select your Choice: y or nn\n",
      "n\n",
      "Thanks for using.\n"
     ]
    }
   ],
   "source": [
    "mytodo=TODO()"
   ]
  },
  {
   "cell_type": "markdown",
   "id": "9ee73d86",
   "metadata": {},
   "source": [
    "# Output"
   ]
  },
  {
   "cell_type": "raw",
   "id": "1f81a52d",
   "metadata": {},
   "source": [
    "Welcome to your todo: \n",
    "Select Your Choice\n",
    "            1-Add TODO\n",
    "            2-Check TODO\n",
    "            3-Update TODO\n",
    "            4-Delete TODO\n",
    "            5-Exit1\n",
    "Enter Todo Title: hdgdjds\n",
    "Enter Des of Todojahasaysuk\n",
    "Welcome to your todo: \n",
    "Select Your Choice\n",
    "            1-Add TODO\n",
    "            2-Check TODO\n",
    "            3-Update TODO\n",
    "            4-Delete TODO\n",
    "            5-Exit1\n",
    "Enter Todo Title: Wlski\n",
    "Enter Des of Todowqlkiuijdns\n",
    "Welcome to your todo: \n",
    "Select Your Choice\n",
    "            1-Add TODO\n",
    "            2-Check TODO\n",
    "            3-Update TODO\n",
    "            4-Delete TODO\n",
    "            5-Exit5\n",
    "Do you wnat to save your Todo: \n",
    "Select your Choice: y or ny\n",
    "y\n",
    "Save Successfully!\n",
    "​"
   ]
  },
  {
   "cell_type": "code",
   "execution_count": null,
   "id": "4eb79a51",
   "metadata": {},
   "outputs": [],
   "source": []
  }
 ],
 "metadata": {
  "kernelspec": {
   "display_name": "Python 3 (ipykernel)",
   "language": "python",
   "name": "python3"
  },
  "language_info": {
   "codemirror_mode": {
    "name": "ipython",
    "version": 3
   },
   "file_extension": ".py",
   "mimetype": "text/x-python",
   "name": "python",
   "nbconvert_exporter": "python",
   "pygments_lexer": "ipython3",
   "version": "3.11.5"
  }
 },
 "nbformat": 4,
 "nbformat_minor": 5
}
